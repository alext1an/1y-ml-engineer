{
 "cells": [
  {
   "cell_type": "markdown",
   "id": "143c8afd",
   "metadata": {},
   "source": [
    "# 100 numpy exercises\n",
    "\n",
    "This is a collection of exercises that have been collected in the numpy mailing list, on stack overflow\n",
    "and in the numpy documentation. The goal of this collection is to offer a quick reference for both old\n",
    "and new users but also to provide a set of exercises for those who teach.\n",
    "\n",
    "\n",
    "If you find an error or think you've a better way to solve some of them, feel\n",
    "free to open an issue at <https://github.com/rougier/numpy-100>.\n",
    "File automatically generated. See the documentation to update questions/answers/hints programmatically."
   ]
  },
  {
   "cell_type": "markdown",
   "id": "f0a27dba",
   "metadata": {},
   "source": [
    "\n",
    "#### 1. Import the numpy package under the name `np` (★☆☆)\n"
   ]
  },
  {
   "cell_type": "code",
   "execution_count": 1,
   "id": "82c570ea",
   "metadata": {},
   "outputs": [],
   "source": [
    "import numpy as np"
   ]
  },
  {
   "cell_type": "markdown",
   "id": "4eb161d7",
   "metadata": {},
   "source": [
    "#### 2. Print the numpy version and the configuration (★☆☆)\n"
   ]
  },
  {
   "cell_type": "code",
   "execution_count": 2,
   "id": "d1e49f75",
   "metadata": {},
   "outputs": [
    {
     "name": "stdout",
     "output_type": "stream",
     "text": [
      "2.2.6\n"
     ]
    }
   ],
   "source": [
    "print(np.__version__)"
   ]
  },
  {
   "cell_type": "markdown",
   "id": "4da3c961",
   "metadata": {},
   "source": [
    "\n",
    "#### 3. Create a null vector of size 10 (★☆☆)\n"
   ]
  },
  {
   "cell_type": "code",
   "execution_count": 9,
   "id": "1a387420",
   "metadata": {},
   "outputs": [
    {
     "name": "stdout",
     "output_type": "stream",
     "text": [
      "[0. 0. 0. 0. 0. 0. 0. 0. 0. 0.]\n"
     ]
    }
   ],
   "source": [
    "array = np.zeros(10)\n",
    "print(array)"
   ]
  },
  {
   "cell_type": "markdown",
   "id": "28b752ad",
   "metadata": {},
   "source": [
    "\n",
    "#### 4. How to find the memory size of any array (★☆☆)\n"
   ]
  },
  {
   "cell_type": "code",
   "execution_count": 10,
   "id": "601df9a5",
   "metadata": {},
   "outputs": [
    {
     "name": "stdout",
     "output_type": "stream",
     "text": [
      "80\n"
     ]
    }
   ],
   "source": [
    "print(array.size * array.itemsize)"
   ]
  },
  {
   "cell_type": "markdown",
   "id": "c3f60b99",
   "metadata": {},
   "source": [
    "\n",
    "#### 5. How to get the documentation of the numpy add function from the command line? (★☆☆)\n"
   ]
  },
  {
   "cell_type": "code",
   "execution_count": 12,
   "id": "1f45eda4",
   "metadata": {},
   "outputs": [
    {
     "name": "stdout",
     "output_type": "stream",
     "text": [
      "add(x1, x2, /, out=None, *, where=True, casting='same_kind', order='K', dtype=None, subok=True[, signature])\n",
      "\n",
      "Add arguments element-wise.\n",
      "\n",
      "Parameters\n",
      "----------\n",
      "x1, x2 : array_like\n",
      "    The arrays to be added.\n",
      "    If ``x1.shape != x2.shape``, they must be broadcastable to a common\n",
      "    shape (which becomes the shape of the output).\n",
      "out : ndarray, None, or tuple of ndarray and None, optional\n",
      "    A location into which the result is stored. If provided, it must have\n",
      "    a shape that the inputs broadcast to. If not provided or None,\n",
      "    a freshly-allocated array is returned. A tuple (possible only as a\n",
      "    keyword argument) must have length equal to the number of outputs.\n",
      "where : array_like, optional\n",
      "    This condition is broadcast over the input. At locations where the\n",
      "    condition is True, the `out` array will be set to the ufunc result.\n",
      "    Elsewhere, the `out` array will retain its original value.\n",
      "    Note that if an uninitialized `out` array is created via the default\n",
      "    ``out=None``, locations within it where the condition is False will\n",
      "    remain uninitialized.\n",
      "**kwargs\n",
      "    For other keyword-only arguments, see the\n",
      "    :ref:`ufunc docs <ufuncs.kwargs>`.\n",
      "\n",
      "Returns\n",
      "-------\n",
      "add : ndarray or scalar\n",
      "    The sum of `x1` and `x2`, element-wise.\n",
      "    This is a scalar if both `x1` and `x2` are scalars.\n",
      "\n",
      "Notes\n",
      "-----\n",
      "Equivalent to `x1` + `x2` in terms of array broadcasting.\n",
      "\n",
      "Examples\n",
      "--------\n",
      ">>> import numpy as np\n",
      ">>> np.add(1.0, 4.0)\n",
      "5.0\n",
      ">>> x1 = np.arange(9.0).reshape((3, 3))\n",
      ">>> x2 = np.arange(3.0)\n",
      ">>> np.add(x1, x2)\n",
      "array([[  0.,   2.,   4.],\n",
      "       [  3.,   5.,   7.],\n",
      "       [  6.,   8.,  10.]])\n",
      "\n",
      "The ``+`` operator can be used as a shorthand for ``np.add`` on ndarrays.\n",
      "\n",
      ">>> x1 = np.arange(9.0).reshape((3, 3))\n",
      ">>> x2 = np.arange(3.0)\n",
      ">>> x1 + x2\n",
      "array([[ 0.,  2.,  4.],\n",
      "       [ 3.,  5.,  7.],\n",
      "       [ 6.,  8., 10.]])\n"
     ]
    }
   ],
   "source": [
    "np.info(np.add)"
   ]
  },
  {
   "cell_type": "markdown",
   "id": "0534e1e9",
   "metadata": {},
   "source": [
    "\n",
    "#### 6. Create a null vector of size 10 but the fifth value which is 1 (★☆☆)\n"
   ]
  },
  {
   "cell_type": "code",
   "execution_count": 13,
   "id": "2d96fbdc",
   "metadata": {},
   "outputs": [
    {
     "name": "stdout",
     "output_type": "stream",
     "text": [
      "[0. 0. 0. 0. 1. 0. 0. 0. 0. 0.]\n"
     ]
    }
   ],
   "source": [
    "Nv = np.zeros(10)\n",
    "Nv[4] = 1\n",
    "print(Nv)"
   ]
  },
  {
   "cell_type": "markdown",
   "id": "e7ae2afa",
   "metadata": {},
   "source": [
    "\n",
    "#### 7. Create a vector with values ranging from 10 to 49 (★☆☆)\n"
   ]
  },
  {
   "cell_type": "code",
   "execution_count": 40,
   "id": "bf1e81c2",
   "metadata": {},
   "outputs": [
    {
     "name": "stdout",
     "output_type": "stream",
     "text": [
      "[10 11 12 13 14 15 16 17 18 19 20 21 22 23 24 25 26 27 28 29 30 31 32 33\n",
      " 34 35 36 37 38 39 40 41 42 43 44 45 46 47 48 49]\n"
     ]
    }
   ],
   "source": [
    "Vec = np.arange(10,50)\n",
    "print(Vec)"
   ]
  },
  {
   "cell_type": "markdown",
   "id": "3f843294",
   "metadata": {},
   "source": [
    "\n",
    "#### 8. Reverse a vector (first element becomes last) (★☆☆)\n"
   ]
  },
  {
   "cell_type": "code",
   "execution_count": 41,
   "id": "419e2938",
   "metadata": {},
   "outputs": [
    {
     "name": "stdout",
     "output_type": "stream",
     "text": [
      "[49 48 47 46 45 44 43 42 41 40 39 38 37 36 35 34 33 32 31 30 29 28 27 26\n",
      " 25 24 23 22 21 20 19 18 17 16 15 14 13 12 11 10]\n"
     ]
    }
   ],
   "source": [
    "RVec = Vec[::-1]\n",
    "print(RVec)"
   ]
  },
  {
   "cell_type": "markdown",
   "id": "365b606c",
   "metadata": {},
   "source": [
    "\n",
    "#### 9. Create a 3x3 matrix with values ranging from 0 to 8 (★☆☆)\n"
   ]
  },
  {
   "cell_type": "code",
   "execution_count": 43,
   "id": "8efb08e7",
   "metadata": {},
   "outputs": [
    {
     "name": "stdout",
     "output_type": "stream",
     "text": [
      "[[0 1 2]\n",
      " [3 4 5]\n",
      " [6 7 8]]\n"
     ]
    }
   ],
   "source": [
    "Mat = np.arange(9).reshape(3,3)\n",
    "print(Mat)"
   ]
  },
  {
   "cell_type": "markdown",
   "id": "f19bbdeb",
   "metadata": {},
   "source": [
    "\n",
    "#### 10. Find indices of non-zero elements from [1,2,0,0,4,0] (★☆☆)\n"
   ]
  },
  {
   "cell_type": "code",
   "execution_count": 45,
   "id": "d86705e2",
   "metadata": {},
   "outputs": [
    {
     "name": "stdout",
     "output_type": "stream",
     "text": [
      "(array([0, 1, 4]),)\n"
     ]
    }
   ],
   "source": [
    "arr = np.nonzero([1,2,0,0,4,0])\n",
    "print(arr)"
   ]
  },
  {
   "cell_type": "markdown",
   "id": "db5159d8",
   "metadata": {},
   "source": [
    "\n",
    "#### 11. Create a 3x3 identity matrix (★☆☆)\n"
   ]
  },
  {
   "cell_type": "code",
   "execution_count": 46,
   "id": "ca9779bd",
   "metadata": {},
   "outputs": [
    {
     "name": "stdout",
     "output_type": "stream",
     "text": [
      "[[1. 0. 0.]\n",
      " [0. 1. 0.]\n",
      " [0. 0. 1.]]\n"
     ]
    }
   ],
   "source": [
    "Im = np.eye(3,3)\n",
    "print(Im)"
   ]
  },
  {
   "cell_type": "markdown",
   "id": "911db3bb",
   "metadata": {},
   "source": [
    "\n",
    "\n",
    "#### 12. Create a 3x3x3 array with random values (★☆☆)\n"
   ]
  },
  {
   "cell_type": "code",
   "execution_count": 52,
   "id": "48ee76a5",
   "metadata": {},
   "outputs": [
    {
     "name": "stdout",
     "output_type": "stream",
     "text": [
      "[[[2.56567292e-01 2.74390025e-01 7.09028144e-01]\n",
      "  [1.01679155e-01 9.91539742e-01 7.22060052e-01]\n",
      "  [9.01044628e-01 9.50962226e-01 5.01404376e-01]]\n",
      "\n",
      " [[1.81261646e-01 7.61452958e-01 5.95187008e-01]\n",
      "  [5.97791573e-01 9.21542978e-01 7.57807191e-01]\n",
      "  [6.45544769e-01 6.17204062e-01 5.84004132e-01]]\n",
      "\n",
      " [[6.55458672e-01 6.96086754e-01 4.86759390e-01]\n",
      "  [3.56759141e-01 8.99552165e-01 1.51655300e-01]\n",
      "  [4.95655224e-04 9.30048809e-01 4.47029827e-01]]]\n"
     ]
    }
   ],
   "source": [
    "Ra = np.random.random((3,3,3))\n",
    "print(Ra)"
   ]
  },
  {
   "cell_type": "markdown",
   "id": "86dc2c62",
   "metadata": {},
   "source": [
    "\n",
    "#### 13. Create a 10x10 array with random values and find the minimum and maximum values (★☆☆)\n"
   ]
  },
  {
   "cell_type": "code",
   "execution_count": null,
   "id": "c20b0914",
   "metadata": {},
   "outputs": [
    {
     "name": "stdout",
     "output_type": "stream",
     "text": [
      "0.9995554156905232 0.00409706552078426\n"
     ]
    }
   ],
   "source": [
    "Ra = np.random.random((10,10))\n",
    "\n",
    "Rmax = Ra.max()\n",
    "Rmin = Ra.min()\n",
    "\n",
    "print(Rmax,Rmin)"
   ]
  },
  {
   "cell_type": "markdown",
   "id": "bcd3e54a",
   "metadata": {},
   "source": [
    "\n",
    "#### 14. Create a random vector of size 30 and find the mean value (★☆☆)\n"
   ]
  },
  {
   "cell_type": "code",
   "execution_count": 57,
   "id": "d2d3fa57",
   "metadata": {},
   "outputs": [
    {
     "name": "stdout",
     "output_type": "stream",
     "text": [
      "0.4823147412558026\n"
     ]
    }
   ],
   "source": [
    "Rv = np.random.random(30)\n",
    "Rmean = Rv.mean()\n",
    "print(Rmean)"
   ]
  },
  {
   "cell_type": "markdown",
   "id": "cafd0c91",
   "metadata": {},
   "source": [
    "\n",
    "#### 15. Create a 2d array with 1 on the border and 0 inside (★☆☆)\n"
   ]
  },
  {
   "cell_type": "code",
   "execution_count": 58,
   "id": "c942d7ad",
   "metadata": {},
   "outputs": [
    {
     "name": "stdout",
     "output_type": "stream",
     "text": [
      "[[1. 1. 1. 1. 1. 1. 1. 1. 1. 1.]\n",
      " [1. 0. 0. 0. 0. 0. 0. 0. 0. 1.]\n",
      " [1. 0. 0. 0. 0. 0. 0. 0. 0. 1.]\n",
      " [1. 0. 0. 0. 0. 0. 0. 0. 0. 1.]\n",
      " [1. 0. 0. 0. 0. 0. 0. 0. 0. 1.]\n",
      " [1. 0. 0. 0. 0. 0. 0. 0. 0. 1.]\n",
      " [1. 0. 0. 0. 0. 0. 0. 0. 0. 1.]\n",
      " [1. 0. 0. 0. 0. 0. 0. 0. 0. 1.]\n",
      " [1. 0. 0. 0. 0. 0. 0. 0. 0. 1.]\n",
      " [1. 1. 1. 1. 1. 1. 1. 1. 1. 1.]]\n"
     ]
    }
   ],
   "source": [
    "Box = np.zeros((10,10))\n",
    "Box[0,:]=1\n",
    "Box[9,:]=1\n",
    "Box[:,0]=1\n",
    "Box[:,9]=1\n",
    "\n",
    "print(Box)"
   ]
  },
  {
   "cell_type": "code",
   "execution_count": 60,
   "id": "80cd4381",
   "metadata": {},
   "outputs": [
    {
     "name": "stdout",
     "output_type": "stream",
     "text": [
      "[[1. 1. 1. 1. 1. 1. 1. 1. 1. 1.]\n",
      " [1. 0. 0. 0. 0. 0. 0. 0. 0. 1.]\n",
      " [1. 0. 0. 0. 0. 0. 0. 0. 0. 1.]\n",
      " [1. 0. 0. 0. 0. 0. 0. 0. 0. 1.]\n",
      " [1. 0. 0. 0. 0. 0. 0. 0. 0. 1.]\n",
      " [1. 0. 0. 0. 0. 0. 0. 0. 0. 1.]\n",
      " [1. 0. 0. 0. 0. 0. 0. 0. 0. 1.]\n",
      " [1. 0. 0. 0. 0. 0. 0. 0. 0. 1.]\n",
      " [1. 0. 0. 0. 0. 0. 0. 0. 0. 1.]\n",
      " [1. 1. 1. 1. 1. 1. 1. 1. 1. 1.]]\n"
     ]
    }
   ],
   "source": [
    "Box = np.ones((10,10))\n",
    "Box[1:-1,1:-1] = 0\n",
    "print(Box)"
   ]
  },
  {
   "cell_type": "markdown",
   "id": "ec3ebd7c",
   "metadata": {},
   "source": [
    "\n",
    "#### 16. How to add a border (filled with 0's) around an existing array? (★☆☆)\n",
    "\n",
    "#### 17. What is the result of the following expression? (★☆☆)\n",
    "```python\n",
    "0 * np.nan\n",
    "np.nan == np.nan\n",
    "np.inf > np.nan\n",
    "np.nan - np.nan\n",
    "np.nan in set([np.nan])\n",
    "0.3 == 3 * 0.1\n",
    "```\n",
    "\n",
    "#### 18. Create a 5x5 matrix with values 1,2,3,4 just below the diagonal (★☆☆)\n",
    "\n",
    "#### 19. Create a 8x8 matrix and fill it with a checkerboard pattern (★☆☆)\n",
    "\n",
    "#### 20. Consider a (6,7,8) shape array, what is the index (x,y,z) of the 100th element? (★☆☆)\n",
    "\n",
    "#### 21. Create a checkerboard 8x8 matrix using the tile function (★☆☆)\n",
    "\n",
    "#### 22. Normalize a 5x5 random matrix (★☆☆)\n",
    "\n",
    "#### 23. Create a custom dtype that describes a color as four unsigned bytes (RGBA) (★☆☆)\n",
    "\n",
    "#### 24. Multiply a 5x3 matrix by a 3x2 matrix (real matrix product) (★☆☆)\n",
    "\n",
    "#### 25. Given a 1D array, negate all elements which are between 3 and 8, in place. (★☆☆)\n",
    "\n",
    "#### 26. What is the output of the following script? (★☆☆)\n",
    "```python\n",
    "# Author: Jake VanderPlas\n",
    "\n",
    "print(sum(range(5),-1))\n",
    "from numpy import *\n",
    "print(sum(range(5),-1))\n",
    "```\n",
    "\n",
    "#### 27. Consider an integer vector Z, which of these expressions are legal? (★☆☆)\n",
    "```python\n",
    "Z**Z\n",
    "2 << Z >> 2\n",
    "Z <- Z\n",
    "1j*Z\n",
    "Z/1/1\n",
    "Z<Z>Z\n",
    "```\n",
    "\n",
    "#### 28. What are the result of the following expressions? (★☆☆)\n",
    "```python\n",
    "np.array(0) / np.array(0)\n",
    "np.array(0) // np.array(0)\n",
    "np.array([np.nan]).astype(int).astype(float)\n",
    "```\n",
    "\n",
    "#### 29. How to round away from zero a float array ? (★☆☆)\n",
    "\n",
    "#### 30. How to find common values between two arrays? (★☆☆)\n",
    "\n",
    "#### 31. How to ignore all numpy warnings (not recommended)? (★☆☆)\n",
    "\n",
    "#### 32. Is the following expressions true? (★☆☆)\n",
    "```python\n",
    "np.sqrt(-1) == np.emath.sqrt(-1)\n",
    "```\n",
    "\n",
    "#### 33. How to get the dates of yesterday, today and tomorrow? (★☆☆)\n",
    "\n",
    "#### 34. How to get all the dates corresponding to the month of July 2016? (★★☆)\n",
    "\n",
    "#### 35. How to compute ((A+B)*(-A/2)) in place (without copy)? (★★☆)\n",
    "\n",
    "#### 36. Extract the integer part of a random array of positive numbers using 4 different methods (★★☆)\n",
    "\n",
    "#### 37. Create a 5x5 matrix with row values ranging from 0 to 4 (★★☆)\n",
    "\n",
    "#### 38. Consider a generator function that generates 10 integers and use it to build an array (★☆☆)\n",
    "\n",
    "#### 39. Create a vector of size 10 with values ranging from 0 to 1, both excluded (★★☆)\n",
    "\n",
    "#### 40. Create a random vector of size 10 and sort it (★★☆)\n",
    "\n",
    "#### 41. How to sum a small array faster than np.sum? (★★☆)\n",
    "\n",
    "#### 42. Consider two random arrays A and B, check if they are equal (★★☆)\n",
    "\n",
    "#### 43. Make an array immutable (read-only) (★★☆)\n",
    "\n",
    "#### 44. Consider a random 10x2 matrix representing cartesian coordinates, convert them to polar coordinates (★★☆)\n",
    "\n",
    "#### 45. Create random vector of size 10 and replace the maximum value by 0 (★★☆)\n",
    "\n",
    "#### 46. Create a structured array with `x` and `y` coordinates covering the [0,1]x[0,1] area (★★☆)\n",
    "\n",
    "#### 47. Given two arrays, X and Y, construct the Cauchy matrix C (Cij =1/(xi - yj)) (★★☆)\n",
    "\n",
    "#### 48. Print the minimum and maximum representable values for each numpy scalar type (★★☆)\n",
    "\n",
    "#### 49. How to print all the values of an array? (★★☆)\n",
    "\n",
    "#### 50. How to find the closest value (to a given scalar) in a vector? (★★☆)\n",
    "\n",
    "#### 51. Create a structured array representing a position (x,y) and a color (r,g,b) (★★☆)\n",
    "\n",
    "#### 52. Consider a random vector with shape (100,2) representing coordinates, find point by point distances (★★☆)\n",
    "\n",
    "#### 53. How to convert a float (32 bits) array into an integer (32 bits) array in place?\n",
    "\n",
    "#### 54. How to read the following file? (★★☆)\n",
    "```\n",
    "1, 2, 3, 4, 5\n",
    "6,  ,  , 7, 8\n",
    " ,  , 9,10,11\n",
    "```\n",
    "\n",
    "#### 55. What is the equivalent of enumerate for numpy arrays? (★★☆)\n",
    "\n",
    "#### 56. Generate a generic 2D Gaussian-like array (★★☆)\n",
    "\n",
    "#### 57. How to randomly place p elements in a 2D array? (★★☆)\n",
    "\n",
    "#### 58. Subtract the mean of each row of a matrix (★★☆)\n",
    "\n",
    "#### 59. How to sort an array by the nth column? (★★☆)\n",
    "\n",
    "#### 60. How to tell if a given 2D array has null columns? (★★☆)\n",
    "\n",
    "#### 61. Find the nearest value from a given value in an array (★★☆)\n",
    "\n",
    "#### 62. Considering two arrays with shape (1,3) and (3,1), how to compute their sum using an iterator? (★★☆)\n",
    "\n",
    "#### 63. Create an array class that has a name attribute (★★☆)\n",
    "\n",
    "#### 64. Consider a given vector, how to add 1 to each element indexed by a second vector (be careful with repeated indices)? (★★★)\n",
    "\n",
    "#### 65. How to accumulate elements of a vector (X) to an array (F) based on an index list (I)? (★★★)\n",
    "\n",
    "#### 66. Considering a (w,h,3) image of (dtype=ubyte), compute the number of unique colors (★★☆)\n",
    "\n",
    "#### 67. Considering a four dimensions array, how to get sum over the last two axis at once? (★★★)\n",
    "\n",
    "#### 68. Considering a one-dimensional vector D, how to compute means of subsets of D using a vector S of same size describing subset  indices? (★★★)\n",
    "\n",
    "#### 69. How to get the diagonal of a dot product? (★★★)\n",
    "\n",
    "#### 70. Consider the vector [1, 2, 3, 4, 5], how to build a new vector with 3 consecutive zeros interleaved between each value? (★★★)\n",
    "\n",
    "#### 71. Consider an array of dimension (5,5,3), how to multiply it by an array with dimensions (5,5)? (★★★)\n",
    "\n",
    "#### 72. How to swap two rows of an array? (★★★)\n",
    "\n",
    "#### 73. Consider a set of 10 triplets describing 10 triangles (with shared vertices), find the set of unique line segments composing all the  triangles (★★★)\n",
    "\n",
    "#### 74. Given a sorted array C that corresponds to a bincount, how to produce an array A such that np.bincount(A) == C? (★★★)\n",
    "\n",
    "#### 75. How to compute averages using a sliding window over an array? (★★★)\n",
    "\n",
    "#### 76. Consider a one-dimensional array Z, build a two-dimensional array whose first row is (Z[0],Z[1],Z[2]) and each subsequent row is  shifted by 1 (last row should be (Z[-3],Z[-2],Z[-1]) (★★★)\n",
    "\n",
    "#### 77. How to negate a boolean, or to change the sign of a float inplace? (★★★)\n",
    "\n",
    "#### 78. Consider 2 sets of points P0,P1 describing lines (2d) and a point p, how to compute distance from p to each line i (P0[i],P1[i])? (★★★)\n",
    "\n",
    "#### 79. Consider 2 sets of points P0,P1 describing lines (2d) and a set of points P, how to compute distance from each point j (P[j]) to each line i (P0[i],P1[i])? (★★★)\n",
    "\n",
    "#### 80. Consider an arbitrary array, write a function that extracts a subpart with a fixed shape and centered on a given element (pad with a `fill` value when necessary) (★★★)\n",
    "\n",
    "#### 81. Consider an array Z = [1,2,3,4,5,6,7,8,9,10,11,12,13,14], how to generate an array R = [[1,2,3,4], [2,3,4,5], [3,4,5,6], ..., [11,12,13,14]]? (★★★)\n",
    "\n",
    "#### 82. Compute a matrix rank (★★★)\n",
    "\n",
    "#### 83. How to find the most frequent value in an array?\n",
    "\n",
    "#### 84. Extract all the contiguous 3x3 blocks from a random 10x10 matrix (★★★)\n",
    "\n",
    "#### 85. Create a 2D array subclass such that Z[i,j] == Z[j,i] (★★★)\n",
    "\n",
    "#### 86. Consider a set of p matrices with shape (n,n) and a set of p vectors with shape (n,1). How to compute the sum of of the p matrix products at once? (result has shape (n,1)) (★★★)\n",
    "\n",
    "#### 87. Consider a 16x16 array, how to get the block-sum (block size is 4x4)? (★★★)\n",
    "\n",
    "#### 88. How to implement the Game of Life using numpy arrays? (★★★)\n",
    "\n",
    "#### 89. How to get the n largest values of an array (★★★)\n",
    "\n",
    "#### 90. Given an arbitrary number of vectors, build the cartesian product (every combination of every item) (★★★)\n",
    "\n",
    "#### 91. How to create a record array from a regular array? (★★★)\n",
    "\n",
    "#### 92. Consider a large vector Z, compute Z to the power of 3 using 3 different methods (★★★)\n",
    "\n",
    "#### 93. Consider two arrays A and B of shape (8,3) and (2,2). How to find rows of A that contain elements of each row of B regardless of the order of the elements in B? (★★★)\n",
    "\n",
    "#### 94. Considering a 10x3 matrix, extract rows with unequal values (e.g. [2,2,3]) (★★★)\n",
    "\n",
    "#### 95. Convert a vector of ints into a matrix binary representation (★★★)\n",
    "\n",
    "#### 96. Given a two dimensional array, how to extract unique rows? (★★★)\n",
    "\n",
    "#### 97. Considering 2 vectors A & B, write the einsum equivalent of inner, outer, sum, and mul function (★★★)\n",
    "\n",
    "#### 98. Considering a path described by two vectors (X,Y), how to sample it using equidistant samples (★★★)?\n",
    "\n",
    "#### 99. Given an integer n and a 2D array X, select from X the rows which can be interpreted as draws from a multinomial distribution with n degrees, i.e., the rows which only contain integers and which sum to n. (★★★)\n",
    "\n",
    "#### 100. Compute bootstrapped 95% confidence intervals for the mean of a 1D array X (i.e., resample the elements of an array with replacement N times, compute the mean of each sample, and then compute percentiles over the means). (★★★)"
   ]
  }
 ],
 "metadata": {
  "kernelspec": {
   "display_name": "stu",
   "language": "python",
   "name": "python3"
  },
  "language_info": {
   "codemirror_mode": {
    "name": "ipython",
    "version": 3
   },
   "file_extension": ".py",
   "mimetype": "text/x-python",
   "name": "python",
   "nbconvert_exporter": "python",
   "pygments_lexer": "ipython3",
   "version": "3.10.18"
  }
 },
 "nbformat": 4,
 "nbformat_minor": 5
}
