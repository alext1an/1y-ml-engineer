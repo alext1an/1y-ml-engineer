{
 "cells": [
  {
   "cell_type": "markdown",
   "id": "2d7d7d02",
   "metadata": {},
   "source": [
    "# NumPy: Fundamental Package for Scientific Computing\n",
    "\n",
    "## Basic Operations\n",
    "### Array Creation and Definition\n",
    "- Create arrays from Python lists\n",
    "- Specify array dimensions and data types\n",
    "\n",
    "### Array Slicing\n",
    "- Extract specific elements\n",
    "- Access multi-dimensional array elements\n",
    "- Syntax: `array[start:stop:step]`\n",
    "\n",
    "### Array Filtering\n",
    "- Boolean indexing\n",
    "- Conditional selection\n",
    "- Create masks for data filtering\n",
    "\n",
    "### Mathematical Operations\n",
    "- Element-wise operations\n",
    "- Array aggregations (sum, mean, etc.)\n",
    "- Universal functions (ufuncs)\n",
    "\n",
    "## Advanced Features\n",
    "### Broadcasting\n",
    "- Perform operations between arrays of different shapes\n",
    "- Automatic array shape compatibility\n",
    "- Efficient memory usage\n",
    "\n",
    "### Random Number Generation\n",
    "- Generate uniform distributions\n",
    "- Create random integers\n",
    "- Sample from various probability distributions"
   ]
  },
  {
   "cell_type": "code",
   "execution_count": 8,
   "id": "53211a4d",
   "metadata": {},
   "outputs": [
    {
     "name": "stdout",
     "output_type": "stream",
     "text": [
      "[1 2 3 4 5]\n",
      "[[1 2 3]\n",
      " [4 5 6]]\n"
     ]
    }
   ],
   "source": [
    "import numpy as np\n",
    "\n",
    "# Definition - Creating arrays\n",
    "arr1 = np.array([1, 2, 3, 4, 5])\n",
    "arr2 = np.array([[1, 2, 3], [4, 5, 6]])\n",
    "print(arr1)\n",
    "print(arr2)"
   ]
  },
  {
   "cell_type": "code",
   "execution_count": null,
   "id": "644801ed",
   "metadata": {},
   "outputs": [
    {
     "name": "stdout",
     "output_type": "stream",
     "text": [
      "Slicing examples:\n",
      "[2 3 4]\n",
      "[[1]\n",
      " [4]]\n"
     ]
    }
   ],
   "source": [
    "# Slicing\n",
    "print(\"Slicing examples:\")\n",
    "print(arr1[1:4])  # [2 3 4]\n",
    "print(arr2[:,:1])  # [[1][4]]\n"
   ]
  },
  {
   "cell_type": "code",
   "execution_count": null,
   "id": "df0431e1",
   "metadata": {},
   "outputs": [
    {
     "name": "stdout",
     "output_type": "stream",
     "text": [
      "\n",
      "Filtering examples:\n",
      "[3 4 5 6]\n",
      "[[0 0 3]\n",
      " [4 5 6]]\n"
     ]
    }
   ],
   "source": [
    "\n",
    "# Filtering\n",
    "print(\"\\nFiltering examples:\")\n",
    "mask = arr2 > 2\n",
    "print(arr2[mask])  # [3 4 5 6]\n",
    "\n",
    "num = np.where(arr2 > 2, arr2, 0) # Replace elements not greater than 2 with 0\n",
    "print(num)  # [[0 0 3][4 5 6]]"
   ]
  },
  {
   "cell_type": "code",
   "execution_count": 26,
   "id": "3b39f360",
   "metadata": {},
   "outputs": [
    {
     "name": "stdout",
     "output_type": "stream",
     "text": [
      "\n",
      "Operation examples:\n",
      "[ 2  4  6  8 10]\n",
      "15\n"
     ]
    }
   ],
   "source": [
    "# Operations\n",
    "print(\"\\nOperation examples:\")\n",
    "print(arr1 * 2)  # Element-wise multiplication\n",
    "print(arr1.sum())  # Sum of all elements\n"
   ]
  },
  {
   "cell_type": "code",
   "execution_count": null,
   "id": "b91713c6",
   "metadata": {},
   "outputs": [
    {
     "name": "stdout",
     "output_type": "stream",
     "text": [
      "\n",
      "Broadcasting example:\n",
      "[[1 2 3]\n",
      " [2 4 6]\n",
      " [3 6 9]]\n"
     ]
    }
   ],
   "source": [
    "# Broadcasting\n",
    "\n",
    "print(\"\\nBroadcasting example:\")\n",
    "arr3 = np.array([[1], [2], [3]])\n",
    "print(arr3 * np.array([1, 2, 3])) # * can be replaced with +, -, /, etc.\n"
   ]
  },
  {
   "cell_type": "code",
   "execution_count": 31,
   "id": "ff383ee3",
   "metadata": {},
   "outputs": [
    {
     "name": "stdout",
     "output_type": "stream",
     "text": [
      "\n",
      "Random number examples:\n",
      "[[0.74618263 0.1353296  0.15470247]\n",
      " [0.99206858 0.91974193 0.74019185]\n",
      " [0.76402365 0.40027293 0.19638277]]\n",
      "[3 0 6 0 6]\n"
     ]
    }
   ],
   "source": [
    "# Random numbers\n",
    "print(\"\\nRandom number examples:\")\n",
    "random_arr = np.random.rand(3, 3)  # 3x3 random array\n",
    "random_ints = np.random.randint(0, 10, size=5)  # 5 random integers between 0-9\n",
    "\n",
    "print(random_arr)\n",
    "print(random_ints)"
   ]
  },
  {
   "cell_type": "code",
   "execution_count": 3,
   "id": "b6dad547",
   "metadata": {},
   "outputs": [
    {
     "name": "stdout",
     "output_type": "stream",
     "text": [
      "[0.09003057 0.24472847 0.66524096]\n",
      "[0.09003057 0.24472847 0.66524096]\n"
     ]
    }
   ],
   "source": [
    "import numpy as np\n",
    "\n",
    "def softmax(x):\n",
    "    exp_x = np.exp(x - np.max(x)) \n",
    "    return exp_x / np.sum(exp_x)\n",
    "\n",
    "print(softmax(np.array([0,1,2])))\n",
    "print(softmax(np.array([10,11,12])))"
   ]
  },
  {
   "cell_type": "markdown",
   "id": "36b2109b",
   "metadata": {},
   "source": [
    "## Matrix Operations\n",
    "\n",
    "### Dot Product\n",
    "\n",
    "* Definition: $\\text{dot}(a,b) = \\sum_i a_i b_i$\n",
    "* Vector dot product and matrix multiplication\n",
    "* NumPy: `np.dot(a, b)` or `a @ b`\n",
    "\n",
    "### Matrix Multiplication (`matmul`)\n",
    "\n",
    "* Equivalent to `@` operator\n",
    "* Follows standard linear algebra rules\n",
    "* NumPy: `np.matmul(A, B)` or `A @ B`\n",
    "\n",
    "### Norms\n",
    "\n",
    "* **L2 norm (Euclidean length)**:\n",
    "  $\\|x\\|_2 = \\sqrt{\\sum_i x_i^2}$\n",
    "  NumPy: `np.linalg.norm(x)`\n",
    "* **L1 norm (Manhattan distance)**:\n",
    "  $\\|x\\|_1 = \\sum_i |x_i|$\n",
    "  NumPy: `np.linalg.norm(x, ord=1)`\n",
    "\n",
    "\n",
    "\n",
    "## Array Manipulation\n",
    "\n",
    "### Reshape\n",
    "\n",
    "* Change array shape without changing data\n",
    "* NumPy: `x.reshape(new_shape)`\n",
    "* Example: `(2,3) → (3,2)`\n",
    "\n",
    "### Random Number Generation\n",
    "\n",
    "* Uniform distribution: `np.random.rand(m,n)`\n",
    "* Normal distribution: `np.random.randn(m,n)`\n",
    "* Random integers: `np.random.randint(low, high, size)`\n",
    "\n"
   ]
  },
  {
   "cell_type": "markdown",
   "id": "23c14b56",
   "metadata": {},
   "source": [
    "## Softmax\n",
    "\n",
    "### Definition\n",
    "\n",
    "$$\n",
    "\\text{softmax}(x_i) = \\frac{e^{x_i}}{\\sum_j e^{x_j}}\n",
    "$$\n",
    "\n",
    "* Converts scores → probability distribution\n",
    "* Invariant to adding same constant to all inputs\n",
    "\n"
   ]
  },
  {
   "cell_type": "code",
   "execution_count": 6,
   "id": "cd9832ad",
   "metadata": {},
   "outputs": [
    {
     "name": "stdout",
     "output_type": "stream",
     "text": [
      "[[0.09003057 0.24472847 0.66524096]\n",
      " [0.09003057 0.24472847 0.66524096]]\n"
     ]
    }
   ],
   "source": [
    "\n",
    "import numpy as np\n",
    "def softmax(x, axis=-1):\n",
    "    exp_x = np.exp(x - np.max(x, axis=axis, keepdims=True))\n",
    "    return exp_x / np.sum(exp_x, axis=axis, keepdims=True)\n",
    "\n",
    "print(softmax(np.array([[0,1,2],[10,11,12]]), axis=1))\n"
   ]
  }
 ],
 "metadata": {
  "kernelspec": {
   "display_name": "stu",
   "language": "python",
   "name": "python3"
  },
  "language_info": {
   "codemirror_mode": {
    "name": "ipython",
    "version": 3
   },
   "file_extension": ".py",
   "mimetype": "text/x-python",
   "name": "python",
   "nbconvert_exporter": "python",
   "pygments_lexer": "ipython3",
   "version": "3.10.18"
  }
 },
 "nbformat": 4,
 "nbformat_minor": 5
}
